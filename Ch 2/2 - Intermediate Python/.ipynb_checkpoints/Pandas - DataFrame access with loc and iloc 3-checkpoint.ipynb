{
 "cells": [
  {
   "cell_type": "code",
   "execution_count": 1,
   "metadata": {},
   "outputs": [
    {
     "name": "stdout",
     "output_type": "stream",
     "text": [
      "index\n",
      "US      True\n",
      "AUS    False\n",
      "JAP    False\n",
      "IN     False\n",
      "RU      True\n",
      "MOR     True\n",
      "EG      True\n",
      "Name: drives_right, dtype: bool\n",
      "index\n",
      "US      True\n",
      "AUS    False\n",
      "JAP    False\n",
      "IN     False\n",
      "RU      True\n",
      "MOR     True\n",
      "EG      True\n",
      "Name: drives_right, dtype: bool\n",
      "       drives_right\n",
      "index              \n",
      "US             True\n",
      "AUS           False\n",
      "JAP           False\n",
      "IN            False\n",
      "RU             True\n",
      "MOR            True\n",
      "EG             True\n",
      "       drives_right\n",
      "index              \n",
      "US             True\n",
      "AUS           False\n",
      "JAP           False\n",
      "IN            False\n",
      "RU             True\n",
      "MOR            True\n",
      "EG             True\n",
      "       cars_per_cap  drives_right\n",
      "index                            \n",
      "US              809          True\n",
      "AUS             731         False\n",
      "JAP             588         False\n",
      "IN               18         False\n",
      "RU              200          True\n",
      "MOR              70          True\n",
      "EG               45          True\n"
     ]
    }
   ],
   "source": [
    "# Import cars data\n",
    "import pandas as pd\n",
    "cars = pd.read_csv('cars.csv', index_col = 0)\n",
    "\n",
    "# Print out drives_right column as Series\n",
    "print(cars.loc[:,'drives_right'])\n",
    "print(cars.iloc[:,2])\n",
    "\n",
    "# Print out drives_right column as DataFrame\n",
    "print(cars.loc[:, ['drives_right']])\n",
    "print(cars.iloc[:, [2]])\n",
    "\n",
    "# Print out cars_per_cap and drives_right as DataFrame\n",
    "print(cars.loc[:, ['cars_per_cap', 'drives_right']])"
   ]
  },
  {
   "cell_type": "code",
   "execution_count": null,
   "metadata": {
    "collapsed": true
   },
   "outputs": [],
   "source": []
  },
  {
   "cell_type": "code",
   "execution_count": null,
   "metadata": {
    "collapsed": true
   },
   "outputs": [],
   "source": []
  },
  {
   "cell_type": "code",
   "execution_count": null,
   "metadata": {
    "collapsed": true
   },
   "outputs": [],
   "source": []
  }
 ],
 "metadata": {
  "kernelspec": {
   "display_name": "Python 3",
   "language": "python",
   "name": "python3"
  },
  "language_info": {
   "codemirror_mode": {
    "name": "ipython",
    "version": 3
   },
   "file_extension": ".py",
   "mimetype": "text/x-python",
   "name": "python",
   "nbconvert_exporter": "python",
   "pygments_lexer": "ipython3",
   "version": "3.6.3"
  }
 },
 "nbformat": 4,
 "nbformat_minor": 2
}
