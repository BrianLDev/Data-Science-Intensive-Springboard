{
 "cells": [
  {
   "cell_type": "code",
   "execution_count": null,
   "metadata": {
    "collapsed": true
   },
   "outputs": [],
   "source": [
    "# Slice aapl from Nov. 2007 to Apr. 2008 inclusive: view\n",
    "view = aapl['2007-11':'2008-04']\n",
    "\n",
    "# Plot the sliced series in the top subplot in red\n",
    "plt.subplot(2,1,1)\n",
    "plt.xticks(rotation=45)\n",
    "plt.title('AAPL: Nov. 2007 to Apr. 2008')\n",
    "plt.plot(view, color='red')\n",
    "\n",
    "# Reassign the series by slicing the month January 2008\n",
    "view = aapl['2008-01']\n",
    "\n",
    "# Plot the sliced series in the bottom subplot in green\n",
    "plt.subplot(2,1,2)\n",
    "plt.xticks(rotation=45)\n",
    "plt.title('AAPL: Jan. 2008')\n",
    "plt.plot(view, color='green')\n",
    "\n",
    "# Improve spacing and display the plot\n",
    "plt.tight_layout()\n",
    "plt.show()\n"
   ]
  }
 ],
 "metadata": {
  "kernelspec": {
   "display_name": "Python 3",
   "language": "python",
   "name": "python3"
  },
  "language_info": {
   "codemirror_mode": {
    "name": "ipython",
    "version": 3
   },
   "file_extension": ".py",
   "mimetype": "text/x-python",
   "name": "python",
   "nbconvert_exporter": "python",
   "pygments_lexer": "ipython3",
   "version": "3.6.3"
  }
 },
 "nbformat": 4,
 "nbformat_minor": 2
}
