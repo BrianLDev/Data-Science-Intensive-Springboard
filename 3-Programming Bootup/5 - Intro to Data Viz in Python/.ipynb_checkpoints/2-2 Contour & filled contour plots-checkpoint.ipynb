{
 "cells": [
  {
   "cell_type": "code",
   "execution_count": null,
   "metadata": {
    "collapsed": true
   },
   "outputs": [],
   "source": [
    "# Generate a default contour map of the array Z\n",
    "plt.subplot(2,2,1)\n",
    "plt.contour(X, Y, Z)\n",
    "\n",
    "# Generate a contour map with 20 contours\n",
    "plt.subplot(2,2,2)\n",
    "plt.contour(X, Y, Z, 20)\n",
    "\n",
    "# Generate a default filled contour map of the array Z\n",
    "plt.subplot(2,2,3)\n",
    "plt.contourf(X, Y, Z)\n",
    "\n",
    "# Generate a default filled contour map with 20 contours\n",
    "plt.subplot(2,2,4)\n",
    "plt.contourf(X, Y, Z, 20)\n",
    "\n",
    "# Improve the spacing between subplots\n",
    "plt.tight_layout()\n",
    "\n",
    "# Display the figure\n",
    "plt.show()\n",
    "\n"
   ]
  }
 ],
 "metadata": {
  "kernelspec": {
   "display_name": "Python 3",
   "language": "python",
   "name": "python3"
  },
  "language_info": {
   "codemirror_mode": {
    "name": "ipython",
    "version": 3
   },
   "file_extension": ".py",
   "mimetype": "text/x-python",
   "name": "python",
   "nbconvert_exporter": "python",
   "pygments_lexer": "ipython3",
   "version": "3.6.3"
  }
 },
 "nbformat": 4,
 "nbformat_minor": 2
}
