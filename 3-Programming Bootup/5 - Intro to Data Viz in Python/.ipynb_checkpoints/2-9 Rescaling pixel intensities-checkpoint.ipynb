{
 "cells": [
  {
   "cell_type": "code",
   "execution_count": null,
   "metadata": {
    "collapsed": true
   },
   "outputs": [],
   "source": [
    "# Load the image into an array: image\n",
    "image = plt.imread('640px-Unequalized_Hawkes_Bay_NZ.jpg')\n",
    "\n",
    "# Extract minimum and maximum values from the image: pmin, pmax\n",
    "pmin, pmax = ____, ____\n",
    "print(\"The smallest & largest pixel intensities are %d & %d.\" % (pmin, pmax))\n",
    "\n",
    "# Rescale the pixels: rescaled_image\n",
    "rescaled_image = 256*(____ - ____) / (____ - ____)\n",
    "print(\"The rescaled smallest & largest pixel intensities are %.1f & %.1f.\" % \n",
    "      (rescaled_image.min(), rescaled_image.max()))\n",
    "\n",
    "# Display the original image in the top subplot\n",
    "plt.subplot(2,1,1)\n",
    "plt.title('original image')\n",
    "plt.axis('off')\n",
    "plt.imshow(____)\n",
    "\n",
    "# Display the rescaled image in the bottom subplot\n",
    "plt.subplot(2,1,2)\n",
    "plt.title('rescaled image')\n",
    "plt.axis('off')\n",
    "plt.imshow(____)\n",
    "\n",
    "plt.show()\n"
   ]
  }
 ],
 "metadata": {
  "kernelspec": {
   "display_name": "Python 3",
   "language": "python",
   "name": "python3"
  },
  "language_info": {
   "codemirror_mode": {
    "name": "ipython",
    "version": 3
   },
   "file_extension": ".py",
   "mimetype": "text/x-python",
   "name": "python",
   "nbconvert_exporter": "python",
   "pygments_lexer": "ipython3",
   "version": "3.6.3"
  }
 },
 "nbformat": 4,
 "nbformat_minor": 2
}
