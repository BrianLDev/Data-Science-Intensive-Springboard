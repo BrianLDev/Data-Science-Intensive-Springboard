{
 "cells": [
  {
   "cell_type": "code",
   "execution_count": null,
   "metadata": {
    "collapsed": true
   },
   "outputs": [],
   "source": [
    "# Make a strip plot of 'hp' grouped by 'cyl'\n",
    "plt.subplot(2,1,1)\n",
    "sns.stripplot(x='cyl', y='hp', data=auto)\n",
    "\n",
    "# Make the strip plot again using jitter and a smaller point size\n",
    "plt.subplot(2,1,2)\n",
    "sns.stripplot(x='cyl', y='hp', data=auto, size=3, jitter=True)\n",
    "\n",
    "# Display the plot\n",
    "plt.show()\n"
   ]
  }
 ],
 "metadata": {
  "kernelspec": {
   "display_name": "Python 3",
   "language": "python",
   "name": "python3"
  },
  "language_info": {
   "codemirror_mode": {
    "name": "ipython",
    "version": 3
   },
   "file_extension": ".py",
   "mimetype": "text/x-python",
   "name": "python",
   "nbconvert_exporter": "python",
   "pygments_lexer": "ipython3",
   "version": "3.6.3"
  }
 },
 "nbformat": 4,
 "nbformat_minor": 2
}
