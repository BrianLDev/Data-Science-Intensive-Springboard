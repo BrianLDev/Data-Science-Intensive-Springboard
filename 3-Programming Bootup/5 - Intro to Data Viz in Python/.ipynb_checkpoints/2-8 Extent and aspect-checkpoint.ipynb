{
 "cells": [
  {
   "cell_type": "code",
   "execution_count": null,
   "metadata": {
    "collapsed": true
   },
   "outputs": [],
   "source": [
    "# Load the image into an array: img\n",
    "img = plt.imread('480px-Astronaut-EVA.jpg')\n",
    "\n",
    "# Specify the extent and aspect ratio of the top left subplot\n",
    "plt.subplot(2,2,1)\n",
    "plt.title('extent=(-1,1,-1,1),\\naspect=0.5') \n",
    "plt.xticks([-1,0,1])\n",
    "plt.yticks([-1,0,1])\n",
    "plt.imshow(img, extent=(-1,1,-1,1), aspect=0.5)\n",
    "\n",
    "# Specify the extent and aspect ratio of the top right subplot\n",
    "plt.subplot(2,2,2)\n",
    "plt.title('extent=(-1,1,-1,1),\\naspect=1')\n",
    "plt.xticks([-1,0,1])\n",
    "plt.yticks([-1,0,1])\n",
    "plt.imshow(img, extent=(-1, 1, -1, 1), aspect=1)\n",
    "\n",
    "# Specify the extent and aspect ratio of the bottom left subplot\n",
    "plt.subplot(2,2,3)\n",
    "plt.title('extent=(-1,1,-1,1),\\naspect=2')\n",
    "plt.xticks([-1,0,1])\n",
    "plt.yticks([-1,0,1])\n",
    "plt.imshow(img, extent=(-1, 1, -1, 1), aspect=2)\n",
    "\n",
    "# Specify the extent and aspect ratio of the bottom right subplot\n",
    "plt.subplot(2,2,4)\n",
    "plt.title('extent=(-2,2,-1,1),\\naspect=2')\n",
    "plt.xticks([-2,-1,0,1,2])\n",
    "plt.yticks([-1,0,1])\n",
    "plt.imshow(img, extent=(-2, 2, -1, 1), aspect=2)\n",
    "\n",
    "# Improve spacing and display the figure\n",
    "plt.tight_layout()\n",
    "plt.show()"
   ]
  }
 ],
 "metadata": {
  "kernelspec": {
   "display_name": "Python 3",
   "language": "python",
   "name": "python3"
  },
  "language_info": {
   "codemirror_mode": {
    "name": "ipython",
    "version": 3
   },
   "file_extension": ".py",
   "mimetype": "text/x-python",
   "name": "python",
   "nbconvert_exporter": "python",
   "pygments_lexer": "ipython3",
   "version": "3.6.3"
  }
 },
 "nbformat": 4,
 "nbformat_minor": 2
}
