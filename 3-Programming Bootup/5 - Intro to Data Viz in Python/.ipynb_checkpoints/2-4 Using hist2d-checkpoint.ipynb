{
 "cells": [
  {
   "cell_type": "code",
   "execution_count": null,
   "metadata": {
    "collapsed": true
   },
   "outputs": [],
   "source": [
    "# Generate a 2-D histogram\n",
    "plt.hist2d(hp, mpg, bins=(20, 20), range=((40, 235), (8, 48)))\n",
    "\n",
    "# Add a color bar to the histogram\n",
    "plt.colorbar()\n",
    "\n",
    "# Add labels, title, and display the plot\n",
    "plt.xlabel('Horse power [hp]')\n",
    "plt.ylabel('Miles per gallon [mpg]')\n",
    "plt.title('hist2d() plot')\n",
    "plt.show()\n"
   ]
  }
 ],
 "metadata": {
  "kernelspec": {
   "display_name": "Python 3",
   "language": "python",
   "name": "python3"
  },
  "language_info": {
   "codemirror_mode": {
    "name": "ipython",
    "version": 3
   },
   "file_extension": ".py",
   "mimetype": "text/x-python",
   "name": "python",
   "nbconvert_exporter": "python",
   "pygments_lexer": "ipython3",
   "version": "3.6.3"
  }
 },
 "nbformat": 4,
 "nbformat_minor": 2
}
