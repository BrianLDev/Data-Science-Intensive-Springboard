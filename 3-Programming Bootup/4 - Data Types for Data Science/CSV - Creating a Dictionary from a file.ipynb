{
 "cells": [
  {
   "cell_type": "code",
   "execution_count": null,
   "metadata": {
    "collapsed": true
   },
   "outputs": [],
   "source": [
    "# Import the python CSV module\n",
    "import csv\n",
    "\n",
    "# Create a python file object in read mode for the `baby_names.csv` file: csvfile\n",
    "csvfile = open('baby_names.csv', 'r')\n",
    "\n",
    "# Loop over a DictReader on the file\n",
    "for row in csv.DictReader(csvfile):\n",
    "    # Print each row \n",
    "    print(row)\n",
    "    # Add the rank and name to the dictionary: baby_names\n",
    "    baby_names[row['RANK']] = row['NAME']\n",
    "\n",
    "# Print the dictionary \n",
    "print(baby_names.keys())\n"
   ]
  }
 ],
 "metadata": {
  "kernelspec": {
   "display_name": "Python 3",
   "language": "python",
   "name": "python3"
  },
  "language_info": {
   "codemirror_mode": {
    "name": "ipython",
    "version": 3
   },
   "file_extension": ".py",
   "mimetype": "text/x-python",
   "name": "python",
   "nbconvert_exporter": "python",
   "pygments_lexer": "ipython3",
   "version": "3.6.3"
  }
 },
 "nbformat": 4,
 "nbformat_minor": 2
}
