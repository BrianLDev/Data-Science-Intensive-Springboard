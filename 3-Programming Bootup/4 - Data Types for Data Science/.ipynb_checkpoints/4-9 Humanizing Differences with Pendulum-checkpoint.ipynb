{
 "cells": [
  {
   "cell_type": "code",
   "execution_count": null,
   "metadata": {
    "collapsed": true
   },
   "outputs": [],
   "source": [
    "# Iterate over date_ranges\n",
    "for start_date, end_date in date_ranges:\n",
    "\n",
    "    # Convert the start_date string to a pendulum date: start_dt \n",
    "    start_dt = pendulum.parse(start_date)\n",
    "    \n",
    "    # Convert the end_date string to a pendulum date: end_dt \n",
    "    end_dt = pendulum.parse(end_date)\n",
    "    \n",
    "    # Print the End and Start Date\n",
    "    print(end_dt, start_dt)\n",
    "    \n",
    "    # Calculate the difference between end_dt and start_dt: diff_period\n",
    "    diff_period = end_dt - start_dt\n",
    "    \n",
    "    # Print the difference in days\n",
    "    print(diff_period.in_days() )"
   ]
  }
 ],
 "metadata": {
  "kernelspec": {
   "display_name": "Python 3",
   "language": "python",
   "name": "python3"
  },
  "language_info": {
   "codemirror_mode": {
    "name": "ipython",
    "version": 3
   },
   "file_extension": ".py",
   "mimetype": "text/x-python",
   "name": "python",
   "nbconvert_exporter": "python",
   "pygments_lexer": "ipython3",
   "version": "3.6.3"
  }
 },
 "nbformat": 4,
 "nbformat_minor": 2
}
