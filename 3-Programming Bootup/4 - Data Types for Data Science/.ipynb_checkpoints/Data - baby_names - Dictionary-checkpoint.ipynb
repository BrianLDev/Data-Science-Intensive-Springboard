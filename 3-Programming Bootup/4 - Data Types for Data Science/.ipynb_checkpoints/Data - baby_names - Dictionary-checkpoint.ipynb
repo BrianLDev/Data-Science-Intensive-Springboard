{
 "cells": [
  {
   "cell_type": "code",
   "execution_count": 3,
   "metadata": {},
   "outputs": [
    {
     "ename": "TypeError",
     "evalue": "a bytes-like object is required, not 'str'",
     "output_type": "error",
     "traceback": [
      "\u001b[1;31m---------------------------------------------------------------------------\u001b[0m",
      "\u001b[1;31mTypeError\u001b[0m                                 Traceback (most recent call last)",
      "\u001b[1;32m<ipython-input-3-102934b54bd3>\u001b[0m in \u001b[0;36m<module>\u001b[1;34m()\u001b[0m\n\u001b[0;32m     26\u001b[0m     \u001b[0mwriter\u001b[0m \u001b[1;33m=\u001b[0m \u001b[0mcsv\u001b[0m\u001b[1;33m.\u001b[0m\u001b[0mwriter\u001b[0m\u001b[1;33m(\u001b[0m\u001b[0mcsv_file\u001b[0m\u001b[1;33m)\u001b[0m\u001b[1;33m\u001b[0m\u001b[0m\n\u001b[0;32m     27\u001b[0m     \u001b[1;32mfor\u001b[0m \u001b[0mkey\u001b[0m\u001b[1;33m,\u001b[0m \u001b[0mvalue\u001b[0m \u001b[1;32min\u001b[0m \u001b[0mbaby_names\u001b[0m\u001b[1;33m.\u001b[0m\u001b[0mitems\u001b[0m\u001b[1;33m(\u001b[0m\u001b[1;33m)\u001b[0m\u001b[1;33m:\u001b[0m\u001b[1;33m\u001b[0m\u001b[0m\n\u001b[1;32m---> 28\u001b[1;33m        \u001b[0mwriter\u001b[0m\u001b[1;33m.\u001b[0m\u001b[0mwriterow\u001b[0m\u001b[1;33m(\u001b[0m\u001b[1;33m[\u001b[0m\u001b[0mkey\u001b[0m\u001b[1;33m,\u001b[0m \u001b[0mvalue\u001b[0m\u001b[1;33m]\u001b[0m\u001b[1;33m)\u001b[0m\u001b[1;33m\u001b[0m\u001b[0m\n\u001b[0m",
      "\u001b[1;31mTypeError\u001b[0m: a bytes-like object is required, not 'str'"
     ]
    }
   ],
   "source": [
    "baby_names = {2012: {},\n",
    " 2013: {1: 'David',\n",
    "  2: 'Joseph',\n",
    "  3: 'Michael',\n",
    "  4: 'Moshe',\n",
    "  5: 'Daniel',\n",
    "  6: 'Benjamin',\n",
    "  7: 'James',\n",
    "  8: 'Jacob',\n",
    "  9: 'Jack',\n",
    "  10: 'Alexander'},\n",
    " 2014: {1: 'Joseph',\n",
    "  2: 'David',\n",
    "  3: 'Michael',\n",
    "  4: 'Moshe',\n",
    "  5: 'Jacob',\n",
    "  6: 'Benjamin',\n",
    "  7: 'Alexander',\n",
    "  8: 'Daniel',\n",
    "  9: 'Samuel',\n",
    "  10: 'Jack'}}"
   ]
  },
  {
   "cell_type": "code",
   "execution_count": 2,
   "metadata": {},
   "outputs": [
    {
     "data": {
      "text/plain": [
       "{2012: {},\n",
       " 2013: {1: 'David',\n",
       "  2: 'Joseph',\n",
       "  3: 'Michael',\n",
       "  4: 'Moshe',\n",
       "  5: 'Daniel',\n",
       "  6: 'Benjamin',\n",
       "  7: 'James',\n",
       "  8: 'Jacob',\n",
       "  9: 'Jack',\n",
       "  10: 'Alexander'},\n",
       " 2014: {1: 'Joseph',\n",
       "  2: 'David',\n",
       "  3: 'Michael',\n",
       "  4: 'Moshe',\n",
       "  5: 'Jacob',\n",
       "  6: 'Benjamin',\n",
       "  7: 'Alexander',\n",
       "  8: 'Daniel',\n",
       "  9: 'Samuel',\n",
       "  10: 'Jack'}}"
      ]
     },
     "execution_count": 2,
     "metadata": {},
     "output_type": "execute_result"
    }
   ],
   "source": [
    "baby_names"
   ]
  },
  {
   "cell_type": "code",
   "execution_count": null,
   "metadata": {
    "collapsed": true
   },
   "outputs": [],
   "source": []
  }
 ],
 "metadata": {
  "kernelspec": {
   "display_name": "Python 3",
   "language": "python",
   "name": "python3"
  },
  "language_info": {
   "codemirror_mode": {
    "name": "ipython",
    "version": 3
   },
   "file_extension": ".py",
   "mimetype": "text/x-python",
   "name": "python",
   "nbconvert_exporter": "python",
   "pygments_lexer": "ipython3",
   "version": "3.6.3"
  }
 },
 "nbformat": 4,
 "nbformat_minor": 2
}
