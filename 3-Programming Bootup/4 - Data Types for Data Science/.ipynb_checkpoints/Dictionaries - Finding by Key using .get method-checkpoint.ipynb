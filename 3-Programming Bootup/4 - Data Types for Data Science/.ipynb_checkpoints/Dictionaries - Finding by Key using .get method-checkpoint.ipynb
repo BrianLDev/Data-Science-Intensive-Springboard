{
 "cells": [
  {
   "cell_type": "code",
   "execution_count": null,
   "metadata": {
    "collapsed": true
   },
   "outputs": [],
   "source": [
    "# Safely print rank 7 from the names dictionary\n",
    "print(names.get(7))\n",
    "\n",
    "# Safely print the type of rank 100 from the names dictionary\n",
    "print(type(names.get(100)))\n",
    "\n",
    "# Safely print rank 105 from the names dictionary or 'Not Found'\n",
    "print(names.get(105, 'Not Found'))\n"
   ]
  }
 ],
 "metadata": {
  "kernelspec": {
   "display_name": "Python 3",
   "language": "python",
   "name": "python3"
  },
  "language_info": {
   "codemirror_mode": {
    "name": "ipython",
    "version": 3
   },
   "file_extension": ".py",
   "mimetype": "text/x-python",
   "name": "python",
   "nbconvert_exporter": "python",
   "pygments_lexer": "ipython3",
   "version": "3.6.3"
  }
 },
 "nbformat": 4,
 "nbformat_minor": 2
}
