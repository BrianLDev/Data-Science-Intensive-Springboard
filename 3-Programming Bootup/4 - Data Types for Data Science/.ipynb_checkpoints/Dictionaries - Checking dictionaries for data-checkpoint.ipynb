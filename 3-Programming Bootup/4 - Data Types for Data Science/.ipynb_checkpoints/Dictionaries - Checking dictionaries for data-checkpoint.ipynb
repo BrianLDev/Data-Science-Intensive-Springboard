{
 "cells": [
  {
   "cell_type": "code",
   "execution_count": 1,
   "metadata": {},
   "outputs": [
    {
     "name": "stdout",
     "output_type": "stream",
     "text": [
      "Rank 1 missing from 2012\n",
      "Found Rank 5\n"
     ]
    }
   ],
   "source": [
    "baby_names = {2012: {},\n",
    " 2013: {1: 'David',\n",
    "  2: 'Joseph',\n",
    "  3: 'Michael',\n",
    "  4: 'Moshe',\n",
    "  5: 'Daniel',\n",
    "  6: 'Benjamin',\n",
    "  7: 'James',\n",
    "  8: 'Jacob',\n",
    "  9: 'Jack',\n",
    "  10: 'Alexander'},\n",
    " 2014: {1: 'Joseph',\n",
    "  2: 'David',\n",
    "  3: 'Michael',\n",
    "  4: 'Moshe',\n",
    "  5: 'Jacob',\n",
    "  6: 'Benjamin',\n",
    "  7: 'Alexander',\n",
    "  8: 'Daniel',\n",
    "  9: 'Samuel',\n",
    "  10: 'Jack'}}\n",
    "\n",
    "# Check to see if 2011 is in baby_names\n",
    "if 2011 in baby_names:\n",
    "    # Print 'Found 2011'\n",
    "    print('Found 2011')\n",
    "    \n",
    "# Check to see if rank 1 is in 2012\n",
    "if 1 in baby_names[2012]:\n",
    "    # Print 'Found Rank 1 in 2012' if found\n",
    "    print('Found Rank 1 in 2012')\n",
    "else:\n",
    "    # Print 'Rank 1 missing from 2012' if not found\n",
    "    print('Rank 1 missing from 2012')\n",
    "    \n",
    "# Check to see if Rank 5 is in 2013\n",
    "if 5 in baby_names[2013]:\n",
    "   # Print 'Found Rank 5'\n",
    "   print('Found Rank 5')"
   ]
  },
  {
   "cell_type": "code",
   "execution_count": null,
   "metadata": {
    "collapsed": true
   },
   "outputs": [],
   "source": []
  }
 ],
 "metadata": {
  "kernelspec": {
   "display_name": "Python 3",
   "language": "python",
   "name": "python3"
  },
  "language_info": {
   "codemirror_mode": {
    "name": "ipython",
    "version": 3
   },
   "file_extension": ".py",
   "mimetype": "text/x-python",
   "name": "python",
   "nbconvert_exporter": "python",
   "pygments_lexer": "ipython3",
   "version": "3.6.3"
  }
 },
 "nbformat": 4,
 "nbformat_minor": 2
}
