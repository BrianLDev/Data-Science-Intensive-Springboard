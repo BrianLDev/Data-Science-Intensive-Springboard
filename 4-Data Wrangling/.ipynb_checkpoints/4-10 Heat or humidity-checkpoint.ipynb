{
 "cells": [
  {
   "cell_type": "code",
   "execution_count": null,
   "metadata": {
    "collapsed": true
   },
   "outputs": [],
   "source": [
    "# add items hidden by DataCamp\n",
    "import pandas as pd\n",
    "import matplotlib.pyplot as plt\n",
    "df_clean = pd.read_csv('Outputs/df_clean.csv', parse_dates=True, index_col=0)\n",
    "df_climate = pd.read_csv('Outputs/df_climate.csv', parse_dates=True, index_col=0)\n",
    "#############\n",
    "\n",
    "\n",
    "# Resample dew_point_faren and dry_bulb_faren by Month, aggregating the maximum values: monthly_max\n",
    "monthly_max = df_clean[['dew_point_faren', 'dry_bulb_faren']].resample('M').max()\n",
    "\n",
    "# Generate a histogram with bins=8, alpha=0.5, subplots=True\n",
    "monthly_max.plot(kind='hist', bins=8, alpha=0.5, subplots=True)\n",
    "\n",
    "# Show the plot\n",
    "plt.show()"
   ]
  }
 ],
 "metadata": {
  "kernelspec": {
   "display_name": "Python 3",
   "language": "python",
   "name": "python3"
  },
  "language_info": {
   "codemirror_mode": {
    "name": "ipython",
    "version": 3
   },
   "file_extension": ".py",
   "mimetype": "text/x-python",
   "name": "python",
   "nbconvert_exporter": "python",
   "pygments_lexer": "ipython3",
   "version": "3.6.3"
  }
 },
 "nbformat": 4,
 "nbformat_minor": 2
}
