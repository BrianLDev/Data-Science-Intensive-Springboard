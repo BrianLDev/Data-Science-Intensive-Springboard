{
 "cells": [
  {
   "cell_type": "code",
   "execution_count": 1,
   "metadata": {},
   "outputs": [
    {
     "name": "stdout",
     "output_type": "stream",
     "text": [
      "95.3\n"
     ]
    },
    {
     "data": {
      "image/png": "[encoded data removed]",
      "text/plain": [
       "<matplotlib.figure.Figure at 0x21fdefab438>"
      ]
     },
     "metadata": {},
     "output_type": "display_data"
    }
   ],
   "source": [
    "# add items hidden by DataCamp\n",
    "import pandas as pd\n",
    "import matplotlib.pyplot as plt\n",
    "df_clean = pd.read_csv('Outputs/df_clean.csv', parse_dates=True, index_col=0)\n",
    "df_climate = pd.read_csv('Outputs/df_climate.csv', parse_dates=True, index_col=0)\n",
    "#############\n",
    "\n",
    "\n",
    "# Extract the maximum temperature in August 2010 from df_climate: august_max\n",
    "august_max = df_climate.loc['2010-08', 'Temperature'].max()\n",
    "print(august_max)\n",
    "\n",
    "# Resample the August 2011 temperatures in df_clean by day and aggregate the maximum value: august_2011\n",
    "august_2011 = df_clean.loc['2011-08', 'dry_bulb_faren'].resample('D').max()\n",
    "\n",
    "# Filter out days in august_2011 where the value exceeded august_max: august_2011_high\n",
    "august_2011_high = august_2011.loc[august_2011 > august_max]\n",
    "\n",
    "# Construct a CDF of august_2011_high\n",
    "august_2011_high.plot(kind='hist', bins=25, normed=True, cumulative=True)\n",
    "\n",
    "# Display the plot\n",
    "plt.show()\n"
   ]
  },
  {
   "cell_type": "code",
   "execution_count": null,
   "metadata": {
    "collapsed": true
   },
   "outputs": [],
   "source": []
  }
 ],
 "metadata": {
  "kernelspec": {
   "display_name": "Python 3",
   "language": "python",
   "name": "python3"
  },
  "language_info": {
   "codemirror_mode": {
    "name": "ipython",
    "version": 3
   },
   "file_extension": ".py",
   "mimetype": "text/x-python",
   "name": "python",
   "nbconvert_exporter": "python",
   "pygments_lexer": "ipython3",
   "version": "3.6.3"
  }
 },
 "nbformat": 4,
 "nbformat_minor": 2
}
