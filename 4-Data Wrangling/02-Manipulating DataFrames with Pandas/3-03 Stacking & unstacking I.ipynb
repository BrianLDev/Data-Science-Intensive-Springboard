{
 "cells": [
  {
   "cell_type": "code",
   "execution_count": 3,
   "metadata": {},
   "outputs": [
    {
     "name": "stdout",
     "output_type": "stream",
     "text": [
      "        Unnamed: 0     visitors      signups    \n",
      "weekday        Mon Sun      Mon  Sun     Mon Sun\n",
      "city                                            \n",
      "Austin           2   0      326  139       3   7\n",
      "Dallas           3   1      456  237       5  12\n",
      "                Unnamed: 0  visitors  signups\n",
      "city   weekday                               \n",
      "Austin Mon               2       326        3\n",
      "       Sun               0       139        7\n",
      "Dallas Mon               3       456        5\n",
      "       Sun               1       237       12\n"
     ]
    }
   ],
   "source": [
    "# add items hidden by DataCamp\n",
    "import pandas as pd\n",
    "users = pd.read_csv('DataSets/users.csv', index_col=(2, 1))\n",
    "####################\n",
    "\n",
    "\n",
    "# Unstack users by 'weekday': byweekday\n",
    "byweekday = users.unstack('weekday')\n",
    "\n",
    "# Print the byweekday DataFrame\n",
    "print(byweekday)\n",
    "\n",
    "# Stack byweekday by 'weekday' and print it\n",
    "print(byweekday.stack(level='weekday'))\n"
   ]
  },
  {
   "cell_type": "code",
   "execution_count": null,
   "metadata": {
    "collapsed": true
   },
   "outputs": [],
   "source": []
  }
 ],
 "metadata": {
  "kernelspec": {
   "display_name": "Python 3",
   "language": "python",
   "name": "python3"
  },
  "language_info": {
   "codemirror_mode": {
    "name": "ipython",
    "version": 3
   },
   "file_extension": ".py",
   "mimetype": "text/x-python",
   "name": "python",
   "nbconvert_exporter": "python",
   "pygments_lexer": "ipython3",
   "version": "3.6.3"
  }
 },
 "nbformat": 4,
 "nbformat_minor": 2
}
