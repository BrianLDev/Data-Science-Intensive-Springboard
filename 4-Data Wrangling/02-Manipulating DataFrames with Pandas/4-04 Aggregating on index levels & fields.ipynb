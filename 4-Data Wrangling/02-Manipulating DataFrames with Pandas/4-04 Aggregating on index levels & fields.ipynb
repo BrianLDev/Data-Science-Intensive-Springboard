{
 "cells": [
  {
   "cell_type": "code",
   "execution_count": 1,
   "metadata": {
    "collapsed": true
   },
   "outputs": [],
   "source": [
    "# add items hidden by DataCamp\n",
    "import pandas as pd\n",
    "gapminder_fname = 'DataSets/gapminder_tidy.csv'"
   ]
  },
  {
   "cell_type": "code",
   "execution_count": 2,
   "metadata": {},
   "outputs": [
    {
     "name": "stdout",
     "output_type": "stream",
     "text": [
      "                                  fertility    life  population  \\\n",
      "Year region  Country                                              \n",
      "1964 America Antigua and Barbuda      4.250  63.775     58653.0   \n",
      "             Argentina                3.068  65.388  21966478.0   \n",
      "             Aruba                    4.059  67.113     57031.0   \n",
      "             Bahamas                  4.220  64.189    133709.0   \n",
      "             Barbados                 4.094  62.819    234455.0   \n",
      "\n",
      "                                  child_mortality      gdp  \n",
      "Year region  Country                                        \n",
      "1964 America Antigua and Barbuda            72.78   5008.0  \n",
      "             Argentina                      57.43   8227.0  \n",
      "             Aruba                            NaN   5505.0  \n",
      "             Bahamas                        48.56  18160.0  \n",
      "             Barbados                       64.70   5681.0  \n"
     ]
    }
   ],
   "source": [
    "# Read the CSV file into a DataFrame and sort the index: gapminder\n",
    "gapminder = pd.read_csv(gapminder_fname, index_col=['Year', 'region','Country']).sort_index()\n",
    "print(gapminder.head())"
   ]
  },
  {
   "cell_type": "code",
   "execution_count": 3,
   "metadata": {},
   "outputs": [
    {
     "name": "stdout",
     "output_type": "stream",
     "text": [
      "                                                     fertility      life  \\\n",
      "Year region                     Country                                    \n",
      "1964 America                    Antigua and Barbuda      4.250  63.77500   \n",
      "                                Argentina                3.068  65.38800   \n",
      "                                Aruba                    4.059  67.11300   \n",
      "                                Bahamas                  4.220  64.18900   \n",
      "                                Barbados                 4.094  62.81900   \n",
      "     East Asia & Pacific        Australia                3.154  70.65000   \n",
      "                                Brunei                   6.227  64.59900   \n",
      "                                Cambodia                 6.909  41.90000   \n",
      "                                China                    6.120  53.32072   \n",
      "                                Fiji                     5.676  57.54500   \n",
      "     Europe & Central Asia      Albania                  5.711  65.47500   \n",
      "                                Armenia                  4.161  67.71400   \n",
      "                                Austria                  2.795  70.16000   \n",
      "                                Azerbaijan               5.468  62.70100   \n",
      "                                Belarus                  2.601  73.48000   \n",
      "     Middle East & North Africa Algeria                  7.653  47.95300   \n",
      "                                Bahrain                  7.192  57.18200   \n",
      "                                Djibouti                 6.595  45.72700   \n",
      "                                Egypt                    6.471  50.13300   \n",
      "                                Iran                     6.868  47.17300   \n",
      "     South Asia                 Afghanistan              7.671  33.63900   \n",
      "                                Bangladesh               6.853  49.29700   \n",
      "                                Bhutan                   6.670  33.82700   \n",
      "                                India                    5.807  44.37500   \n",
      "                                Maldives                 7.179  38.91100   \n",
      "     Sub-Saharan Africa         Angola                   7.425  34.60400   \n",
      "                                Benin                    6.497  39.14200   \n",
      "                                Botswana                 6.681  52.03500   \n",
      "                                Burkina Faso             6.414  36.33100   \n",
      "                                Burundi                  7.138  42.54300   \n",
      "...                                                        ...       ...   \n",
      "2013 America                    Antigua and Barbuda      2.089  75.95400   \n",
      "                                Argentina                2.175  76.30500   \n",
      "                                Aruba                    1.673  75.45500   \n",
      "                                Bahamas                  1.888  75.23700   \n",
      "                                Barbados                 1.849  75.37000   \n",
      "     East Asia & Pacific        Australia                1.882  82.49600   \n",
      "                                Brunei                   1.994  78.54700   \n",
      "                                Cambodia                 2.861  71.91600   \n",
      "                                China                    1.668  75.33100   \n",
      "                                Fiji                     2.588  69.81000   \n",
      "     Europe & Central Asia      Albania                  1.771  77.39200   \n",
      "                                Armenia                  1.740  74.56100   \n",
      "                                Austria                  1.471  81.13700   \n",
      "                                Azerbaijan               1.924  70.75300   \n",
      "                                Belarus                  1.494  69.92800   \n",
      "     Middle East & North Africa Algeria                  2.795  71.00000   \n",
      "                                Bahrain                  2.075  76.60800   \n",
      "                                Djibouti                 3.387  61.80100   \n",
      "                                Egypt                    2.770  71.15700   \n",
      "                                Iran                     1.920  74.04800   \n",
      "     South Asia                 Afghanistan              4.900  60.94700   \n",
      "                                Bangladesh               2.177  70.65700   \n",
      "                                Bhutan                   2.232  68.29400   \n",
      "                                India                    2.479  66.41400   \n",
      "                                Maldives                 2.256  77.91900   \n",
      "     Sub-Saharan Africa         Angola                   5.863  51.89900   \n",
      "                                Benin                    4.845  59.33000   \n",
      "                                Botswana                 2.619  47.57200   \n",
      "                                Burkina Faso             5.605  56.34400   \n",
      "                                Burundi                  6.033  54.10400   \n",
      "\n",
      "                                                       population  \\\n",
      "Year region                     Country                             \n",
      "1964 America                    Antigua and Barbuda  5.865300e+04   \n",
      "                                Argentina            2.196648e+07   \n",
      "                                Aruba                5.703100e+04   \n",
      "                                Bahamas              1.337090e+05   \n",
      "                                Barbados             2.344550e+05   \n",
      "     East Asia & Pacific        Australia            1.112257e+07   \n",
      "                                Brunei               9.519100e+04   \n",
      "                                Cambodia             5.983575e+06   \n",
      "                                China                6.961716e+08   \n",
      "                                Fiji                 4.504470e+05   \n",
      "     Europe & Central Asia      Albania              1.817098e+06   \n",
      "                                Armenia              2.138133e+06   \n",
      "                                Austria              7.220812e+06   \n",
      "                                Azerbaijan           4.440733e+06   \n",
      "                                Belarus              8.521413e+06   \n",
      "     Middle East & North Africa Algeria              1.165490e+07   \n",
      "                                Bahrain              1.818330e+05   \n",
      "                                Djibouti             1.092220e+05   \n",
      "                                Egypt                3.097007e+07   \n",
      "                                Iran                 2.440893e+07   \n",
      "     South Asia                 Afghanistan          1.047490e+07   \n",
      "                                Bangladesh           5.607108e+07   \n",
      "                                Bhutan               2.514190e+05   \n",
      "                                India                4.860389e+08   \n",
      "                                Maldives             1.003700e+05   \n",
      "     Sub-Saharan Africa         Angola               5.337063e+06   \n",
      "                                Benin                2.561022e+06   \n",
      "                                Botswana             5.795180e+05   \n",
      "                                Burkina Faso         5.195464e+06   \n",
      "                                Burundi              3.154474e+06   \n",
      "...                                                           ...   \n",
      "2013 America                    Antigua and Barbuda  9.140400e+04   \n",
      "                                Argentina            4.147398e+07   \n",
      "                                Aruba                1.088830e+05   \n",
      "                                Bahamas              3.552330e+05   \n",
      "                                Barbados             2.751410e+05   \n",
      "     East Asia & Pacific        Australia            2.321394e+07   \n",
      "                                Brunei               4.197720e+05   \n",
      "                                Cambodia             1.465602e+07   \n",
      "                                China                1.359368e+09   \n",
      "                                Fiji                 8.828630e+05   \n",
      "     Europe & Central Asia      Albania              3.238316e+06   \n",
      "                                Armenia              3.117722e+06   \n",
      "                                Austria              8.441263e+06   \n",
      "                                Azerbaijan           9.533445e+06   \n",
      "                                Belarus              9.498290e+06   \n",
      "     Middle East & North Africa Algeria              3.698392e+07   \n",
      "                                Bahrain              1.377273e+06   \n",
      "                                Djibouti             9.400900e+05   \n",
      "                                Egypt                8.537844e+07   \n",
      "                                Iran                 7.640701e+07   \n",
      "     South Asia                 Afghanistan          3.449992e+07   \n",
      "                                Bangladesh           1.543938e+08   \n",
      "                                Bhutan               7.623130e+05   \n",
      "                                India                1.275138e+09   \n",
      "                                Maldives             3.285510e+05   \n",
      "     Sub-Saharan Africa         Angola               2.071449e+07   \n",
      "                                Benin                9.606534e+06   \n",
      "                                Botswana             2.074616e+06   \n",
      "                                Burkina Faso         1.801151e+07   \n",
      "                                Burundi              8.911183e+06   \n",
      "\n",
      "                                                     child_mortality      gdp  \n",
      "Year region                     Country                                        \n",
      "1964 America                    Antigua and Barbuda            72.78   5008.0  \n",
      "                                Argentina                      57.43   8227.0  \n",
      "                                Aruba                            NaN   5505.0  \n",
      "                                Bahamas                        48.56  18160.0  \n",
      "                                Barbados                       64.70   5681.0  \n",
      "     East Asia & Pacific        Australia                      22.70  16098.0  \n",
      "                                Brunei                         83.12  67522.0  \n",
      "                                Cambodia                      238.67   1548.0  \n",
      "                                China                         130.77    713.0  \n",
      "                                Fiji                           61.70   3671.0  \n",
      "     Europe & Central Asia      Albania                       122.67   3023.0  \n",
      "                                Armenia                        66.85   2823.0  \n",
      "                                Austria                        34.20  13915.0  \n",
      "                                Azerbaijan                     93.61   5751.0  \n",
      "                                Belarus                        33.42   4357.0  \n",
      "     Middle East & North Africa Algeria                       247.30   5693.0  \n",
      "                                Bahrain                       138.90  24751.0  \n",
      "                                Djibouti                      208.78   3700.0  \n",
      "                                Egypt                         274.80   2443.0  \n",
      "                                Iran                          275.65   6188.0  \n",
      "     South Asia                 Afghanistan                   339.70   1182.0  \n",
      "                                Bangladesh                    240.40   1138.0  \n",
      "                                Bhutan                        311.78    997.0  \n",
      "                                India                         232.90   1125.0  \n",
      "                                Maldives                      315.00   1222.0  \n",
      "     Sub-Saharan Africa         Angola                        305.20   4573.0  \n",
      "                                Benin                         292.50   1159.0  \n",
      "                                Botswana                      152.80   1038.0  \n",
      "                                Burkina Faso                  331.00    711.0  \n",
      "                                Burundi                       241.60    603.0  \n",
      "...                                                              ...      ...  \n",
      "2013 America                    Antigua and Barbuda             8.70  20353.0  \n",
      "                                Argentina                      13.30  17629.0  \n",
      "                                Aruba                          17.03  36083.0  \n",
      "                                Bahamas                        12.80  22518.0  \n",
      "                                Barbados                       13.70  12867.0  \n",
      "     East Asia & Pacific        Australia                       4.00  42840.0  \n",
      "                                Brunei                         10.00  69474.0  \n",
      "                                Cambodia                       32.90   2942.0  \n",
      "                                China                          12.30  11805.0  \n",
      "                                Fiji                           23.20   7502.0  \n",
      "     Europe & Central Asia      Albania                        14.90   9961.0  \n",
      "                                Armenia                        15.50   7527.0  \n",
      "                                Austria                         3.90  44059.0  \n",
      "                                Azerbaijan                     34.20  16593.0  \n",
      "                                Belarus                         4.90  17085.0  \n",
      "     Middle East & North Africa Algeria                        25.20  12893.0  \n",
      "                                Bahrain                         6.90  42444.0  \n",
      "                                Djibouti                       69.50   2903.0  \n",
      "                                Egypt                          25.80  10731.0  \n",
      "                                Iran                           16.80  15552.0  \n",
      "     South Asia                 Afghanistan                    96.70   1884.0  \n",
      "                                Bangladesh                     41.60   2853.0  \n",
      "                                Bhutan                         36.00   7167.0  \n",
      "                                India                          52.10   5244.0  \n",
      "                                Maldives                        9.90  13353.0  \n",
      "     Sub-Saharan Africa         Angola                        167.10   7488.0  \n",
      "                                Benin                         104.80   1733.0  \n",
      "                                Botswana                       55.50  16155.0  \n",
      "                                Burkina Faso                   96.60   1588.0  \n",
      "                                Burundi                        87.80    747.0  \n",
      "\n",
      "[1500 rows x 5 columns]\n"
     ]
    }
   ],
   "source": [
    "# Group gapminder by 'Year' and 'region': by_year_region\n",
    "by_year_region = gapminder.groupby(level = ['Year', 'region'])\n",
    "print(by_year_region.head(5))"
   ]
  },
  {
   "cell_type": "code",
   "execution_count": 4,
   "metadata": {
    "collapsed": true
   },
   "outputs": [],
   "source": [
    "# Define the function to compute spread: spread\n",
    "def spread(series):\n",
    "    return series.max() - series.min()"
   ]
  },
  {
   "cell_type": "code",
   "execution_count": 5,
   "metadata": {},
   "outputs": [
    {
     "name": "stdout",
     "output_type": "stream",
     "text": [
      "{'population': 'sum', 'child_mortality': 'mean', 'gdp': <function spread at 0x0000016AAFFA6620>}\n"
     ]
    }
   ],
   "source": [
    "# Create the dictionary: aggregator\n",
    "aggregator = {'population':'sum', 'child_mortality':'mean', 'gdp':spread}\n",
    "print(aggregator)"
   ]
  },
  {
   "cell_type": "code",
   "execution_count": 6,
   "metadata": {},
   "outputs": [
    {
     "name": "stdout",
     "output_type": "stream",
     "text": [
      "                                   population  child_mortality      gdp\n",
      "Year region                                                            \n",
      "1964 America                     4.621957e+08       113.950667  18314.0\n",
      "     East Asia & Pacific         1.110668e+09       129.109130  66821.0\n",
      "     Europe & Central Asia       6.988545e+08        61.585319  28734.0\n",
      "     Middle East & North Africa  1.180955e+08       179.605263  38474.0\n",
      "     South Asia                  6.250739e+08       256.922500    812.0\n"
     ]
    }
   ],
   "source": [
    "# Aggregate by_year_region using the dictionary: aggregated\n",
    "aggregated = by_year_region.agg(aggregator)\n",
    "print(aggregated.head())"
   ]
  },
  {
   "cell_type": "code",
   "execution_count": 7,
   "metadata": {},
   "outputs": [
    {
     "name": "stdout",
     "output_type": "stream",
     "text": [
      "                                   population  child_mortality       gdp\n",
      "Year region                                                             \n",
      "2013 America                     9.629087e+08        17.745833   49634.0\n",
      "     East Asia & Pacific         2.244209e+09        22.285714  134744.0\n",
      "     Europe & Central Asia       8.968788e+08         9.831875   86418.0\n",
      "     Middle East & North Africa  4.030504e+08        20.221500  128676.0\n",
      "     South Asia                  1.701241e+09        46.287500   11469.0\n",
      "     Sub-Saharan Africa          9.205996e+08        76.944490   32035.0\n"
     ]
    }
   ],
   "source": [
    "# Print the last 6 entries of aggregated \n",
    "print(aggregated.tail(6))"
   ]
  },
  {
   "cell_type": "code",
   "execution_count": null,
   "metadata": {
    "collapsed": true
   },
   "outputs": [],
   "source": []
  }
 ],
 "metadata": {
  "kernelspec": {
   "display_name": "Python 3",
   "language": "python",
   "name": "python3"
  },
  "language_info": {
   "codemirror_mode": {
    "name": "ipython",
    "version": 3
   },
   "file_extension": ".py",
   "mimetype": "text/x-python",
   "name": "python",
   "nbconvert_exporter": "python",
   "pygments_lexer": "ipython3",
   "version": "3.6.3"
  }
 },
 "nbformat": 4,
 "nbformat_minor": 2
}
