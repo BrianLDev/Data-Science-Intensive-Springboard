{
 "cells": [
  {
   "cell_type": "code",
   "execution_count": 18,
   "metadata": {},
   "outputs": [
    {
     "name": "stdout",
     "output_type": "stream",
     "text": [
      "   pclass  survived                                             name     sex  \\\n",
      "0       1         1                    Allen, Miss. Elisabeth Walton  female   \n",
      "1       1         1                   Allison, Master. Hudson Trevor    male   \n",
      "2       1         0                     Allison, Miss. Helen Loraine  female   \n",
      "3       1         0             Allison, Mr. Hudson Joshua Creighton    male   \n",
      "4       1         0  Allison, Mrs. Hudson J C (Bessie Waldo Daniels)  female   \n",
      "\n",
      "     age  sibsp  parch  ticket      fare    cabin embarked boat   body  \\\n",
      "0  29.00      0      0   24160  211.3375       B5        S    2    NaN   \n",
      "1   0.92      1      2  113781  151.5500  C22 C26        S   11    NaN   \n",
      "2   2.00      1      2  113781  151.5500  C22 C26        S  NaN    NaN   \n",
      "3  30.00      1      2  113781  151.5500  C22 C26        S  NaN  135.0   \n",
      "4  25.00      1      2  113781  151.5500  C22 C26        S  NaN    NaN   \n",
      "\n",
      "                         home.dest  \n",
      "0                     St Louis, MO  \n",
      "1  Montreal, PQ / Chesterville, ON  \n",
      "2  Montreal, PQ / Chesterville, ON  \n",
      "3  Montreal, PQ / Chesterville, ON  \n",
      "4  Montreal, PQ / Chesterville, ON  \n"
     ]
    }
   ],
   "source": [
    "# add items hidden by DataCamp\n",
    "import pandas as pd\n",
    "titanic = pd.read_csv('DataSets/titanic.csv')\n",
    "print(titanic.head(5))"
   ]
  },
  {
   "cell_type": "code",
   "execution_count": 22,
   "metadata": {},
   "outputs": [
    {
     "name": "stdout",
     "output_type": "stream",
     "text": [
      "by_class:\n",
      "\n",
      "     pclass  survived                                   name     sex    age  \\\n",
      "0         1         1          Allen, Miss. Elisabeth Walton  female  29.00   \n",
      "1         1         1         Allison, Master. Hudson Trevor    male   0.92   \n",
      "323       2         0                    Abelson, Mr. Samuel    male  30.00   \n",
      "324       2         1  Abelson, Mrs. Samuel (Hannah Wizosky)  female  28.00   \n",
      "600       3         0                    Abbing, Mr. Anthony    male  42.00   \n",
      "601       3         0          Abbott, Master. Eugene Joseph    male  13.00   \n",
      "\n",
      "     sibsp  parch     ticket      fare    cabin embarked boat  body  \\\n",
      "0        0      0      24160  211.3375       B5        S    2   NaN   \n",
      "1        1      2     113781  151.5500  C22 C26        S   11   NaN   \n",
      "323      1      0  P/PP 3381   24.0000      NaN        C  NaN   NaN   \n",
      "324      1      0  P/PP 3381   24.0000      NaN        C   10   NaN   \n",
      "600      0      0  C.A. 5547    7.5500      NaN        S  NaN   NaN   \n",
      "601      0      2  C.A. 2673   20.2500      NaN        S  NaN   NaN   \n",
      "\n",
      "                           home.dest  \n",
      "0                       St Louis, MO  \n",
      "1    Montreal, PQ / Chesterville, ON  \n",
      "323              Russia New York, NY  \n",
      "324              Russia New York, NY  \n",
      "600                              NaN  \n",
      "601              East Providence, RI  \n",
      "\n",
      "count_by_class:\n",
      "\n",
      "pclass\n",
      "1    323\n",
      "2    277\n",
      "3    709\n",
      "Name: survived, dtype: int64\n",
      "\n",
      "count_mult:\n",
      "\n",
      "embarked  pclass\n",
      "C         1         141\n",
      "          2          28\n",
      "          3         101\n",
      "Q         1           3\n",
      "          2           7\n",
      "          3         113\n",
      "S         1         177\n",
      "          2         242\n",
      "          3         495\n",
      "Name: survived, dtype: int64\n"
     ]
    }
   ],
   "source": [
    "# Group titanic by 'pclass'\n",
    "by_class = titanic.groupby('pclass')\n",
    "print('by_class:\\n')\n",
    "print(by_class.head(2))\n",
    "\n",
    "# Aggregate 'survived' column of by_class by count\n",
    "count_by_class = by_class['survived'].count()\n",
    "\n",
    "# Print count_by_class\n",
    "print('\\ncount_by_class:\\n')\n",
    "print(count_by_class)\n",
    "\n",
    "# Group titanic by 'embarked' and 'pclass'\n",
    "by_mult = titanic.groupby(['embarked','pclass'])\n",
    "#print('\\nby_mult:\\n')\n",
    "#print(by_mult.head(2)) # this is long - uncomment to check it out if needed\n",
    "\n",
    "# Aggregate 'survived' column of by_mult by count\n",
    "count_mult = by_mult['survived'].count()\n",
    "\n",
    "# Print count_mult\n",
    "print('\\ncount_mult:\\n')\n",
    "print(count_mult)"
   ]
  },
  {
   "cell_type": "code",
   "execution_count": null,
   "metadata": {
    "collapsed": true
   },
   "outputs": [],
   "source": []
  }
 ],
 "metadata": {
  "kernelspec": {
   "display_name": "Python 3",
   "language": "python",
   "name": "python3"
  },
  "language_info": {
   "codemirror_mode": {
    "name": "ipython",
    "version": 3
   },
   "file_extension": ".py",
   "mimetype": "text/x-python",
   "name": "python",
   "nbconvert_exporter": "python",
   "pygments_lexer": "ipython3",
   "version": "3.6.3"
  }
 },
 "nbformat": 4,
 "nbformat_minor": 2
}
