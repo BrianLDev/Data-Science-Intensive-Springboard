{
 "cells": [
  {
   "cell_type": "code",
   "execution_count": 1,
   "metadata": {},
   "outputs": [
    {
     "name": "stdout",
     "output_type": "stream",
     "text": [
      "  weekday    city  variable  value\n",
      "0     Sun  Austin  visitors    139\n",
      "1     Sun  Dallas  visitors    237\n",
      "2     Mon  Austin  visitors    326\n",
      "3     Mon  Dallas  visitors    456\n",
      "4     Sun  Austin   signups      7\n",
      "5     Sun  Dallas   signups     12\n",
      "6     Mon  Austin   signups      3\n",
      "7     Mon  Dallas   signups      5\n"
     ]
    }
   ],
   "source": [
    "# add items hidden by DataCamp\n",
    "import pandas as pd\n",
    "users = pd.read_csv('DataSets/users.csv', index_col=0)\n",
    "####################\n",
    "\n",
    "\n",
    "# Melt users: skinny\n",
    "skinny = pd.melt(users, id_vars=['weekday', 'city'])\n",
    "\n",
    "# Print skinny\n",
    "print(skinny)\n"
   ]
  },
  {
   "cell_type": "code",
   "execution_count": null,
   "metadata": {
    "collapsed": true
   },
   "outputs": [],
   "source": []
  }
 ],
 "metadata": {
  "kernelspec": {
   "display_name": "Python 3",
   "language": "python",
   "name": "python3"
  },
  "language_info": {
   "codemirror_mode": {
    "name": "ipython",
    "version": 3
   },
   "file_extension": ".py",
   "mimetype": "text/x-python",
   "name": "python",
   "nbconvert_exporter": "python",
   "pygments_lexer": "ipython3",
   "version": "3.6.3"
  }
 },
 "nbformat": 4,
 "nbformat_minor": 2
}
