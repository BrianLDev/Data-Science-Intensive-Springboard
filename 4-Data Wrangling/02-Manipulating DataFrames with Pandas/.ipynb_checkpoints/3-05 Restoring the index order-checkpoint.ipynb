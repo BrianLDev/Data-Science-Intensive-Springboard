{
 "cells": [
  {
   "cell_type": "code",
   "execution_count": 1,
   "metadata": {},
   "outputs": [
    {
     "name": "stdout",
     "output_type": "stream",
     "text": [
      "                Unnamed: 0  visitors  signups\n",
      "city   weekday                               \n",
      "Austin Sun               0       139        7\n",
      "Dallas Sun               1       237       12\n",
      "Austin Mon               2       326        3\n",
      "Dallas Mon               3       456        5\n",
      "        Unnamed: 0        visitors        signups       \n",
      "city        Austin Dallas   Austin Dallas  Austin Dallas\n",
      "weekday                                                 \n",
      "Mon              2      3      326    456       3      5\n",
      "Sun              0      1      139    237       7     12\n",
      "                Unnamed: 0  visitors  signups\n",
      "city   weekday                               \n",
      "Austin Mon               2       326        3\n",
      "Dallas Mon               3       456        5\n",
      "Austin Sun               0       139        7\n",
      "Dallas Sun               1       237       12\n",
      "                Unnamed: 0  visitors  signups\n",
      "city   weekday                               \n",
      "Austin Mon               2       326        3\n",
      "       Sun               0       139        7\n",
      "Dallas Mon               3       456        5\n",
      "       Sun               1       237       12\n",
      "False\n"
     ]
    }
   ],
   "source": [
    "# add items hidden by DataCamp\n",
    "import pandas as pd\n",
    "users = pd.read_csv('DataSets/users.csv', index_col=(2, 1))\n",
    "bycity = users.unstack('city')\n",
    "####################\n",
    "\n",
    "\n",
    "print(users)\n",
    "print(bycity)\n",
    "# Stack 'city' back into the index of bycity: newusers\n",
    "newusers = bycity.stack(level='city')\n",
    "\n",
    "# Swap the levels of the index of newusers: newusers\n",
    "newusers = newusers.swaplevel(0, 1)\n",
    "\n",
    "# Print newusers and verify that the index is not sorted\n",
    "print(newusers)\n",
    "\n",
    "# Sort the index of newusers: newusers\n",
    "newusers = newusers.sort_index()\n",
    "\n",
    "# Print newusers and verify that the index is now sorted\n",
    "print(newusers)\n",
    "\n",
    "# Verify that the new DataFrame is equal to the original\n",
    "print(newusers.equals(users))"
   ]
  },
  {
   "cell_type": "code",
   "execution_count": null,
   "metadata": {
    "collapsed": true
   },
   "outputs": [],
   "source": []
  }
 ],
 "metadata": {
  "kernelspec": {
   "display_name": "Python 3",
   "language": "python",
   "name": "python3"
  },
  "language_info": {
   "codemirror_mode": {
    "name": "ipython",
    "version": 3
   },
   "file_extension": ".py",
   "mimetype": "text/x-python",
   "name": "python",
   "nbconvert_exporter": "python",
   "pygments_lexer": "ipython3",
   "version": "3.6.3"
  }
 },
 "nbformat": 4,
 "nbformat_minor": 2
}
