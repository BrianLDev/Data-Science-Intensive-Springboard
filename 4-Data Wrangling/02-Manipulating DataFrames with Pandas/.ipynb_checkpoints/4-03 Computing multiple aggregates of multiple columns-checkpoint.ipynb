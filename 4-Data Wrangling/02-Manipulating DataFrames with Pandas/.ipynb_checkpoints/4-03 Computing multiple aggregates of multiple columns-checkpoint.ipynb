{
 "cells": [
  {
   "cell_type": "code",
   "execution_count": 1,
   "metadata": {},
   "outputs": [
    {
     "name": "stdout",
     "output_type": "stream",
     "text": [
      "   pclass  survived                                             name     sex  \\\n",
      "0       1         1                    Allen, Miss. Elisabeth Walton  female   \n",
      "1       1         1                   Allison, Master. Hudson Trevor    male   \n",
      "2       1         0                     Allison, Miss. Helen Loraine  female   \n",
      "3       1         0             Allison, Mr. Hudson Joshua Creighton    male   \n",
      "4       1         0  Allison, Mrs. Hudson J C (Bessie Waldo Daniels)  female   \n",
      "\n",
      "     age  sibsp  parch  ticket      fare    cabin embarked boat   body  \\\n",
      "0  29.00      0      0   24160  211.3375       B5        S    2    NaN   \n",
      "1   0.92      1      2  113781  151.5500  C22 C26        S   11    NaN   \n",
      "2   2.00      1      2  113781  151.5500  C22 C26        S  NaN    NaN   \n",
      "3  30.00      1      2  113781  151.5500  C22 C26        S  NaN  135.0   \n",
      "4  25.00      1      2  113781  151.5500  C22 C26        S  NaN    NaN   \n",
      "\n",
      "                         home.dest  \n",
      "0                     St Louis, MO  \n",
      "1  Montreal, PQ / Chesterville, ON  \n",
      "2  Montreal, PQ / Chesterville, ON  \n",
      "3  Montreal, PQ / Chesterville, ON  \n",
      "4  Montreal, PQ / Chesterville, ON  \n"
     ]
    }
   ],
   "source": [
    "# add items hidden by DataCamp\n",
    "import pandas as pd\n",
    "titanic = pd.read_csv('DataSets/titanic.csv')\n",
    "print(titanic.head(5))"
   ]
  },
  {
   "cell_type": "code",
   "execution_count": 2,
   "metadata": {},
   "outputs": [
    {
     "name": "stdout",
     "output_type": "stream",
     "text": [
      "\n",
      "by_class:\n",
      "\n",
      "     pclass  survived                                   name     sex    age  \\\n",
      "0         1         1          Allen, Miss. Elisabeth Walton  female  29.00   \n",
      "1         1         1         Allison, Master. Hudson Trevor    male   0.92   \n",
      "323       2         0                    Abelson, Mr. Samuel    male  30.00   \n",
      "324       2         1  Abelson, Mrs. Samuel (Hannah Wizosky)  female  28.00   \n",
      "600       3         0                    Abbing, Mr. Anthony    male  42.00   \n",
      "601       3         0          Abbott, Master. Eugene Joseph    male  13.00   \n",
      "\n",
      "     sibsp  parch     ticket      fare    cabin embarked boat  body  \\\n",
      "0        0      0      24160  211.3375       B5        S    2   NaN   \n",
      "1        1      2     113781  151.5500  C22 C26        S   11   NaN   \n",
      "323      1      0  P/PP 3381   24.0000      NaN        C  NaN   NaN   \n",
      "324      1      0  P/PP 3381   24.0000      NaN        C   10   NaN   \n",
      "600      0      0  C.A. 5547    7.5500      NaN        S  NaN   NaN   \n",
      "601      0      2  C.A. 2673   20.2500      NaN        S  NaN   NaN   \n",
      "\n",
      "                           home.dest  \n",
      "0                       St Louis, MO  \n",
      "1    Montreal, PQ / Chesterville, ON  \n",
      "323              Russia New York, NY  \n",
      "324              Russia New York, NY  \n",
      "600                              NaN  \n",
      "601              East Providence, RI  \n"
     ]
    }
   ],
   "source": [
    "# Group titanic by 'pclass': by_class\n",
    "by_class = titanic.groupby('pclass')\n",
    "print('\\nby_class:\\n')\n",
    "print(by_class.head(2))"
   ]
  },
  {
   "cell_type": "code",
   "execution_count": 3,
   "metadata": {},
   "outputs": [
    {
     "name": "stdout",
     "output_type": "stream",
     "text": [
      "\n",
      "by_class_sub:\n",
      "\n",
      "       age      fare\n",
      "0    29.00  211.3375\n",
      "1     0.92  151.5500\n",
      "323  30.00   24.0000\n",
      "324  28.00   24.0000\n",
      "600  42.00    7.5500\n",
      "601  13.00   20.2500\n"
     ]
    }
   ],
   "source": [
    "# Select 'age' and 'fare' columns for a new dataFrame\n",
    "by_class_sub = by_class[['age','fare']]\n",
    "print('\\nby_class_sub:\\n')\n",
    "print(by_class_sub.head(2))"
   ]
  },
  {
   "cell_type": "code",
   "execution_count": 4,
   "metadata": {},
   "outputs": [
    {
     "name": "stdout",
     "output_type": "stream",
     "text": [
      "\n",
      "aggregated:\n",
      "\n",
      "         age             fare         \n",
      "         max median       max   median\n",
      "pclass                                \n",
      "1       80.0   39.0  512.3292  60.0000\n",
      "2       70.0   29.0   73.5000  15.0458\n",
      "3       74.0   24.0   69.5500   8.0500\n"
     ]
    }
   ],
   "source": [
    "# Aggregate by_class_sub by 'max' and 'median': aggregated\n",
    "aggregated = by_class_sub.agg(['max', 'median'])   # max on the 1st column: age, median on the 2nd column: fare\n",
    "print('\\naggregated:\\n')\n",
    "print(aggregated.head())"
   ]
  },
  {
   "cell_type": "code",
   "execution_count": 5,
   "metadata": {},
   "outputs": [
    {
     "name": "stdout",
     "output_type": "stream",
     "text": [
      "\n",
      "aggregated max age by class:\n",
      "\n",
      "pclass\n",
      "1    80.0\n",
      "2    70.0\n",
      "3    74.0\n",
      "Name: (age, max), dtype: float64\n"
     ]
    }
   ],
   "source": [
    "# Print the maximum age in each class\n",
    "print('\\naggregated max age by class:\\n')\n",
    "print(aggregated.loc[:, ('age','max')])"
   ]
  },
  {
   "cell_type": "code",
   "execution_count": 6,
   "metadata": {},
   "outputs": [
    {
     "name": "stdout",
     "output_type": "stream",
     "text": [
      "\n",
      "aggregated median fare by class:\n",
      "\n",
      "pclass\n",
      "1    60.0000\n",
      "2    15.0458\n",
      "3     8.0500\n",
      "Name: (fare, median), dtype: float64\n"
     ]
    }
   ],
   "source": [
    "# Print the median fare in each class\n",
    "print('\\naggregated median fare by class:\\n')\n",
    "print(aggregated.loc[:, ('fare', 'median')])"
   ]
  },
  {
   "cell_type": "code",
   "execution_count": null,
   "metadata": {
    "collapsed": true
   },
   "outputs": [],
   "source": []
  }
 ],
 "metadata": {
  "kernelspec": {
   "display_name": "Python 3",
   "language": "python",
   "name": "python3"
  },
  "language_info": {
   "codemirror_mode": {
    "name": "ipython",
    "version": 3
   },
   "file_extension": ".py",
   "mimetype": "text/x-python",
   "name": "python",
   "nbconvert_exporter": "python",
   "pygments_lexer": "ipython3",
   "version": "3.6.3"
  }
 },
 "nbformat": 4,
 "nbformat_minor": 2
}
