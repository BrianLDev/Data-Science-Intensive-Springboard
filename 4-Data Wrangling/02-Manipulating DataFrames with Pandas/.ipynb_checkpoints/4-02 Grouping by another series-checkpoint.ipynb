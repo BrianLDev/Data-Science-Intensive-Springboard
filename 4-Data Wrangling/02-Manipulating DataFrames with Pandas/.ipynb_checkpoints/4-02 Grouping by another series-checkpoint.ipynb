{
 "cells": [
  {
   "cell_type": "code",
   "execution_count": 46,
   "metadata": {},
   "outputs": [
    {
     "name": "stdout",
     "output_type": "stream",
     "text": [
      "                                         region\n",
      "Country                                        \n",
      "Afghanistan                          South Asia\n",
      "Albania                   Europe & Central Asia\n",
      "Algeria              Middle East & North Africa\n",
      "Angola                       Sub-Saharan Africa\n",
      "Antigua and Barbuda                     America\n",
      "Year                   1964    1965    1966    1967    1968    1969    1970  \\\n",
      "Country                                                                       \n",
      "Afghanistan          33.639  34.152  34.662  35.170  35.674  36.172  36.663   \n",
      "Albania              65.475  65.863  66.122  66.316  66.500  66.702  66.948   \n",
      "Algeria              47.953  48.389  48.806  49.205  49.592  49.976  50.366   \n",
      "Angola               34.604  35.007  35.410  35.816  36.222  36.627  37.032   \n",
      "Antigua and Barbuda  63.775  64.149  64.511  64.865  65.213  65.558  65.898   \n",
      "\n",
      "Year                   1971    1972    1973   ...      2004    2005    2006  \\\n",
      "Country                                       ...                             \n",
      "Afghanistan          37.143  37.614  38.075   ...    56.583  57.071  57.582   \n",
      "Albania              67.251  67.595  67.966   ...    75.725  75.949  76.124   \n",
      "Algeria              50.767  51.195  51.670   ...    69.682  69.854  70.020   \n",
      "Angola               37.439  37.846  38.247   ...    48.036  48.572  49.041   \n",
      "Antigua and Barbuda  66.232  66.558  66.875   ...    74.355  74.544  74.729   \n",
      "\n",
      "Year                   2007    2008    2009    2010    2011    2012    2013  \n",
      "Country                                                                      \n",
      "Afghanistan          58.102  58.618  59.124  59.612  60.079  60.524  60.947  \n",
      "Albania              76.278  76.433  76.598  76.780  76.979  77.185  77.392  \n",
      "Algeria              70.180  70.332  70.477  70.615  70.747  70.874  71.000  \n",
      "Angola               49.471  49.882  50.286  50.689  51.094  51.498  51.899  \n",
      "Antigua and Barbuda  74.910  75.087  75.263  75.437  75.610  75.783  75.954  \n",
      "\n",
      "[5 rows x 50 columns]\n"
     ]
    }
   ],
   "source": [
    "# add items hidden by DataCamp\n",
    "import pandas as pd\n",
    "life_fname = 'DataSets/gapminder_tidy.csv'\n",
    "life = pd.read_csv(life_fname, index_col='Country')\n",
    "regions = life['region']\n",
    "regions = regions.drop_duplicates()\n",
    "regions = pd.DataFrame(regions)\n",
    "print(regions.head())\n",
    "life = life.pivot(columns='Year', values='life')\n",
    "print(life.head())"
   ]
  },
  {
   "cell_type": "code",
   "execution_count": 48,
   "metadata": {},
   "outputs": [
    {
     "name": "stdout",
     "output_type": "stream",
     "text": [
      "Year                   1964    1965    1966    1967    1968    1969    1970  \\\n",
      "Country                                                                       \n",
      "Afghanistan          33.639  34.152  34.662  35.170  35.674  36.172  36.663   \n",
      "Albania              65.475  65.863  66.122  66.316  66.500  66.702  66.948   \n",
      "Algeria              47.953  48.389  48.806  49.205  49.592  49.976  50.366   \n",
      "Angola               34.604  35.007  35.410  35.816  36.222  36.627  37.032   \n",
      "Antigua and Barbuda  63.775  64.149  64.511  64.865  65.213  65.558  65.898   \n",
      "Argentina            65.388  65.481  65.603  65.759  65.953  66.184  66.449   \n",
      "Armenia              67.714  68.151  68.587  69.015  69.425  69.808  70.143   \n",
      "Aruba                67.113  67.435  67.762  68.095  68.436  68.784  69.140   \n",
      "Australia            70.650  70.980  70.820  71.100  70.730  71.140  70.810   \n",
      "\n",
      "Year                   1971    1972    1973   ...      2004    2005    2006  \\\n",
      "Country                                       ...                             \n",
      "Afghanistan          37.143  37.614  38.075   ...    56.583  57.071  57.582   \n",
      "Albania              67.251  67.595  67.966   ...    75.725  75.949  76.124   \n",
      "Algeria              50.767  51.195  51.670   ...    69.682  69.854  70.020   \n",
      "Angola               37.439  37.846  38.247   ...    48.036  48.572  49.041   \n",
      "Antigua and Barbuda  66.232  66.558  66.875   ...    74.355  74.544  74.729   \n",
      "Argentina            66.740  67.044  67.349   ...    74.645  74.843  75.036   \n",
      "Armenia              70.411  70.604  70.722   ...    73.192  73.491  73.730   \n",
      "Aruba                69.498  69.851  70.192   ...    74.175  74.316  74.467   \n",
      "Australia            71.410  71.930  72.140   ...    81.040  81.440  81.630   \n",
      "\n",
      "Year                   2007    2008    2009    2010    2011    2012    2013  \n",
      "Country                                                                      \n",
      "Afghanistan          58.102  58.618  59.124  59.612  60.079  60.524  60.947  \n",
      "Albania              76.278  76.433  76.598  76.780  76.979  77.185  77.392  \n",
      "Algeria              70.180  70.332  70.477  70.615  70.747  70.874  71.000  \n",
      "Angola               49.471  49.882  50.286  50.689  51.094  51.498  51.899  \n",
      "Antigua and Barbuda  74.910  75.087  75.263  75.437  75.610  75.783  75.954  \n",
      "Argentina            75.225  75.410  75.592  75.772  75.950  76.128  76.305  \n",
      "Armenia              73.920  74.070  74.191  74.291  74.381  74.469  74.561  \n",
      "Aruba                74.621  74.772  74.919  75.059  75.193  75.324  75.455  \n",
      "Australia            81.670  81.567  81.937  82.091  82.231  82.364  82.496  \n",
      "\n",
      "[9 rows x 50 columns]\n",
      "region\n",
      "America                       75.437\n",
      "East Asia & Pacific           82.091\n",
      "Europe & Central Asia         76.780\n",
      "Middle East & North Africa    70.615\n",
      "South Asia                    59.612\n",
      "Sub-Saharan Africa            50.689\n",
      "Name: 2010, dtype: float64\n"
     ]
    }
   ],
   "source": [
    "# Read life_fname into a DataFrame: life\n",
    "#life = pd.read_csv(life_fname, index_col='Country')   # comment out - done above due to pivot\n",
    "\n",
    "# Read regions_fname into a DataFrame: regions\n",
    "#regions = pd.read_csv(regions_fname, index_col='Country')   # comment out - done above due to data massaging\n",
    "\n",
    "# Group life by regions['region']: life_by_region\n",
    "life_by_region = life.groupby(regions['region'])\n",
    "print(life_by_region.head(3))\n",
    "\n",
    "# Print the mean over the '2010' column of life_by_region\n",
    "print(life_by_region[2010].mean())\n"
   ]
  },
  {
   "cell_type": "code",
   "execution_count": null,
   "metadata": {
    "collapsed": true
   },
   "outputs": [],
   "source": []
  }
 ],
 "metadata": {
  "kernelspec": {
   "display_name": "Python 3",
   "language": "python",
   "name": "python3"
  },
  "language_info": {
   "codemirror_mode": {
    "name": "ipython",
    "version": 3
   },
   "file_extension": ".py",
   "mimetype": "text/x-python",
   "name": "python",
   "nbconvert_exporter": "python",
   "pygments_lexer": "ipython3",
   "version": "3.6.3"
  }
 },
 "nbformat": 4,
 "nbformat_minor": 2
}
