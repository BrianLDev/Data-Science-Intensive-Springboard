{
 "cells": [
  {
   "cell_type": "code",
   "execution_count": null,
   "metadata": {
    "collapsed": true
   },
   "outputs": [],
   "source": [
    "# Load the image into an array: image\n",
    "image = plt.imread('hs-2004-32-b-small_web.jpg')\n",
    "\n",
    "# Extract RGB channels and flatten into 1-D array\n",
    "red, blue, green = image[:,:,0], image[:,:,1], image[:,:,2]\n",
    "red_pixels = red.flatten()\n",
    "blue_pixels = blue.flatten()\n",
    "green_pixels = green.flatten()\n",
    "\n",
    "# Generate a 2-D histogram of the red and green pixels\n",
    "plt.subplot(2,2,1)\n",
    "plt.grid('off')\n",
    "plt.xticks(rotation=60)\n",
    "plt.xlabel('red')\n",
    "plt.ylabel('green')\n",
    "plt.hist2d(red_pixels, green_pixels, bins=(32, 32))\n",
    "\n",
    "# Generate a 2-D histogram of the green and blue pixels\n",
    "plt.subplot(2,2,2)\n",
    "plt.grid('off')\n",
    "plt.xticks(rotation=60)\n",
    "plt.xlabel('green')\n",
    "plt.ylabel('blue')\n",
    "plt.hist2d(green_pixels, blue_pixels, bins=(32, 32))\n",
    "\n",
    "# Generate a 2-D histogram of the blue and red pixels\n",
    "plt.subplot(2,2,3)\n",
    "plt.grid('off')\n",
    "plt.xticks(rotation=60)\n",
    "plt.xlabel('blue')\n",
    "plt.ylabel('red')\n",
    "plt.hist2d(blue_pixels, red_pixels, bins=(32, 32))\n",
    "\n",
    "# Display the plot\n",
    "plt.show()\n"
   ]
  }
 ],
 "metadata": {
  "kernelspec": {
   "display_name": "Python 3",
   "language": "python",
   "name": "python3"
  },
  "language_info": {
   "codemirror_mode": {
    "name": "ipython",
    "version": 3
   },
   "file_extension": ".py",
   "mimetype": "text/x-python",
   "name": "python",
   "nbconvert_exporter": "python",
   "pygments_lexer": "ipython3",
   "version": "3.6.3"
  }
 },
 "nbformat": 4,
 "nbformat_minor": 2
}
