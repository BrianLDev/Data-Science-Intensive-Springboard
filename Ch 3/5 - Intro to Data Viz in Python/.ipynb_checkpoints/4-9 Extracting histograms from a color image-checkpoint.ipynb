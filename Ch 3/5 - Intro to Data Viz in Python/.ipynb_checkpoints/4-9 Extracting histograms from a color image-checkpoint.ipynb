{
 "cells": [
  {
   "cell_type": "code",
   "execution_count": null,
   "metadata": {
    "collapsed": true
   },
   "outputs": [],
   "source": [
    "# Load the image into an array: image\n",
    "image = plt.imread('hs-2004-32-b-small_web.jpg')\n",
    "\n",
    "# Display image in top subplot\n",
    "plt.subplot(2,1,1)\n",
    "plt.title('Original image')\n",
    "plt.axis('off')\n",
    "plt.imshow(image)\n",
    "\n",
    "# Extract 2-D arrays of the RGB channels: red, blue, green\n",
    "red, green, blue = image[:,:,0], image[:,:,1], image[:,:,2]\n",
    "\n",
    "# Flatten the 2-D arrays of the RGB channels into 1-D\n",
    "red_pixels = red.flatten()\n",
    "blue_pixels = blue.flatten()\n",
    "green_pixels = green.flatten()\n",
    "\n",
    "# Overlay histograms of the pixels of each color in the bottom subplot\n",
    "plt.subplot(2,1,2)\n",
    "plt.title('Histograms from color image')\n",
    "plt.xlim((0,256))\n",
    "plt.hist(red_pixels, bins=64, normed=True, color='red', alpha=0.2)\n",
    "plt.hist(blue_pixels, bins=64, normed=True, color='blue', alpha=0.2)\n",
    "plt.hist(green_pixels, bins=64, normed=True, color='green', alpha=0.2)\n",
    "\n",
    "# Display the plot\n",
    "plt.show()\n"
   ]
  }
 ],
 "metadata": {
  "kernelspec": {
   "display_name": "Python 3",
   "language": "python",
   "name": "python3"
  },
  "language_info": {
   "codemirror_mode": {
    "name": "ipython",
    "version": 3
   },
   "file_extension": ".py",
   "mimetype": "text/x-python",
   "name": "python",
   "nbconvert_exporter": "python",
   "pygments_lexer": "ipython3",
   "version": "3.6.3"
  }
 },
 "nbformat": 4,
 "nbformat_minor": 2
}
