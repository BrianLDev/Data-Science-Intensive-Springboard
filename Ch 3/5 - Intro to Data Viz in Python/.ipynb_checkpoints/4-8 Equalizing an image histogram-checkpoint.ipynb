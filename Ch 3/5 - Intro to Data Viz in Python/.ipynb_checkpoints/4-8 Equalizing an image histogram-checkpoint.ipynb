{
 "cells": [
  {
   "cell_type": "code",
   "execution_count": null,
   "metadata": {
    "collapsed": true
   },
   "outputs": [],
   "source": [
    "# Load the image into an array: image\n",
    "image = plt.imread('640px-Unequalized_Hawkes_Bay_NZ.jpg')\n",
    "\n",
    "# Flatten the image into 1 dimension: pixels\n",
    "pixels = image.flatten()\n",
    "\n",
    "# Generate a cumulative histogram\n",
    "cdf, bins, patches = plt.hist(pixels, bins=256, range=(0,256), normed=True, cumulative=True)\n",
    "new_pixels = np.interp(pixels, bins[:-1], cdf*255)\n",
    "\n",
    "# Reshape new_pixels as a 2-D array: new_image\n",
    "new_image = new_pixels.reshape(image.shape)\n",
    "\n",
    "# Display the new image with 'gray' color map\n",
    "plt.subplot(2,1,1)\n",
    "plt.title('Equalized image')\n",
    "plt.axis('off')\n",
    "plt.imshow(new_image, cmap='gray')\n",
    "\n",
    "# Generate a histogram of the new pixels\n",
    "plt.subplot(2,1,2)\n",
    "pdf = plt.hist(new_pixels, bins=64, range=(0,256), normed=False,\n",
    "               color='red', alpha=0.4)\n",
    "plt.grid('off')\n",
    "\n",
    "# Use plt.twinx() to overlay the CDF in the bottom subplot\n",
    "plt.twinx()\n",
    "plt.xlim((0,256))\n",
    "plt.grid('off')\n",
    "\n",
    "# Add title\n",
    "plt.title('PDF & CDF (equalized image)')\n",
    "\n",
    "# Generate a cumulative histogram of the new pixels\n",
    "cdf = plt.hist(new_pixels, bins=64, range=(0,256),\n",
    "               cumulative=True, normed=True,\n",
    "               color='blue', alpha=0.4)\n",
    "plt.show()\n"
   ]
  }
 ],
 "metadata": {
  "kernelspec": {
   "display_name": "Python 3",
   "language": "python",
   "name": "python3"
  },
  "language_info": {
   "codemirror_mode": {
    "name": "ipython",
    "version": 3
   },
   "file_extension": ".py",
   "mimetype": "text/x-python",
   "name": "python",
   "nbconvert_exporter": "python",
   "pygments_lexer": "ipython3",
   "version": "3.6.3"
  }
 },
 "nbformat": 4,
 "nbformat_minor": 2
}
