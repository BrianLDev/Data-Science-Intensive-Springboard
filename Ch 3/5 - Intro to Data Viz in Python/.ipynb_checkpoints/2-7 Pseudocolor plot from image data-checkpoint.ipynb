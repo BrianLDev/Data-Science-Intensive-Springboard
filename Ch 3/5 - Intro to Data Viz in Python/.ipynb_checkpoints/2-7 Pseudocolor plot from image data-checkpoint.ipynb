{
 "cells": [
  {
   "cell_type": "code",
   "execution_count": null,
   "metadata": {
    "collapsed": true
   },
   "outputs": [],
   "source": [
    "# Load the image into an array: img\n",
    "img = plt.imread('480px-Astronaut-EVA.jpg')\n",
    "\n",
    "# Print the shape of the image\n",
    "print(img.shape)\n",
    "\n",
    "# Compute the sum of the red, green and blue channels: intensity\n",
    "intensity = img.sum(axis=2)\n",
    "\n",
    "# Print the shape of the intensity\n",
    "print(intensity.shape)\n",
    "\n",
    "# Display the intensity with a colormap of 'gray'\n",
    "plt.imshow(intensity, 'gray')\n",
    "\n",
    "# Add a colorbar\n",
    "plt.colorbar()\n",
    "\n",
    "# Hide the axes and show the figure\n",
    "plt.axis('off')\n",
    "plt.show()\n"
   ]
  }
 ],
 "metadata": {
  "kernelspec": {
   "display_name": "Python 3",
   "language": "python",
   "name": "python3"
  },
  "language_info": {
   "codemirror_mode": {
    "name": "ipython",
    "version": 3
   },
   "file_extension": ".py",
   "mimetype": "text/x-python",
   "name": "python",
   "nbconvert_exporter": "python",
   "pygments_lexer": "ipython3",
   "version": "3.6.3"
  }
 },
 "nbformat": 4,
 "nbformat_minor": 2
}
