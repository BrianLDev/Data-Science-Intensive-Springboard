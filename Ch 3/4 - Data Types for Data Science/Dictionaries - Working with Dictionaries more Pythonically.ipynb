{
 "cells": [
  {
   "cell_type": "code",
   "execution_count": 1,
   "metadata": {},
   "outputs": [
    {
     "name": "stdout",
     "output_type": "stream",
     "text": [
      "1 Joseph\n",
      "2 David\n",
      "3 Michael\n",
      "4 Moshe\n",
      "5 Jacob\n",
      "6 Benjamin\n",
      "7 Alexander\n",
      "8 Daniel\n",
      "9 Samuel\n",
      "10 Jack\n"
     ]
    }
   ],
   "source": [
    "baby_names = {2012: {},\n",
    " 2013: {1: 'David',\n",
    "  2: 'Joseph',\n",
    "  3: 'Michael',\n",
    "  4: 'Moshe',\n",
    "  5: 'Daniel',\n",
    "  6: 'Benjamin',\n",
    "  7: 'James',\n",
    "  8: 'Jacob',\n",
    "  9: 'Jack',\n",
    "  10: 'Alexander'},\n",
    " 2014: {1: 'Joseph',\n",
    "  2: 'David',\n",
    "  3: 'Michael',\n",
    "  4: 'Moshe',\n",
    "  5: 'Jacob',\n",
    "  6: 'Benjamin',\n",
    "  7: 'Alexander',\n",
    "  8: 'Daniel',\n",
    "  9: 'Samuel',\n",
    "  10: 'Jack'}}\n",
    "\n",
    "# Iterate over the 2014 nested dictionary\n",
    "for rank, name in baby_names[2014].items():\n",
    "    # Print rank and name\n",
    "    print(rank, name)\n",
    "    \n",
    "# Iterate over the 2012 nested dictionary\n",
    "for rank, name in baby_names[2012].items():\n",
    "    # Print rank and name\n",
    "    print(rank, name)"
   ]
  },
  {
   "cell_type": "code",
   "execution_count": null,
   "metadata": {
    "collapsed": true
   },
   "outputs": [],
   "source": []
  }
 ],
 "metadata": {
  "kernelspec": {
   "display_name": "Python 3",
   "language": "python",
   "name": "python3"
  },
  "language_info": {
   "codemirror_mode": {
    "name": "ipython",
    "version": 3
   },
   "file_extension": ".py",
   "mimetype": "text/x-python",
   "name": "python",
   "nbconvert_exporter": "python",
   "pygments_lexer": "ipython3",
   "version": "3.6.3"
  }
 },
 "nbformat": 4,
 "nbformat_minor": 2
}
