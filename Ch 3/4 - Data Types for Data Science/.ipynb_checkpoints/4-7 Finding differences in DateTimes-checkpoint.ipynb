{
 "cells": [
  {
   "cell_type": "code",
   "execution_count": null,
   "metadata": {
    "collapsed": true
   },
   "outputs": [],
   "source": [
    "# Iterate over the date_ranges\n",
    "for start_date, end_date in date_ranges:\n",
    "    # Print the End and Start Date\n",
    "    print(end_date, start_date)\n",
    "    # Print the difference between each end and start date\n",
    "    print(end_date - start_date)\n"
   ]
  }
 ],
 "metadata": {
  "kernelspec": {
   "display_name": "Python 3",
   "language": "python",
   "name": "python3"
  },
  "language_info": {
   "codemirror_mode": {
    "name": "ipython",
    "version": 3
   },
   "file_extension": ".py",
   "mimetype": "text/x-python",
   "name": "python",
   "nbconvert_exporter": "python",
   "pygments_lexer": "ipython3",
   "version": "3.6.3"
  }
 },
 "nbformat": 4,
 "nbformat_minor": 2
}
