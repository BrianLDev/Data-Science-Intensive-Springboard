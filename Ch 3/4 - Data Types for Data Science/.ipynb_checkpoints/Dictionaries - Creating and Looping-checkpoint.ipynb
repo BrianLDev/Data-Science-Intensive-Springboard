{
 "cells": [
  {
   "cell_type": "code",
   "execution_count": null,
   "metadata": {
    "collapsed": true
   },
   "outputs": [],
   "source": [
    "# Create an empty dictionary: names\n",
    "names = {}\n",
    "\n",
    "# Loop over the girl names\n",
    "for name, rank in female_baby_names_2012:\n",
    "    # Add each name to the names dictionary using rank as the key\n",
    "    names[rank] = name\n",
    "    \n",
    "# Sort the names list by rank in descending order and slice the first 10 items\n",
    "for rank in sorted(names,reverse=True)[:10]:\n",
    "    # Print each item\n",
    "    print(names[rank])"
   ]
  }
 ],
 "metadata": {
  "kernelspec": {
   "display_name": "Python 3",
   "language": "python",
   "name": "python3"
  },
  "language_info": {
   "codemirror_mode": {
    "name": "ipython",
    "version": 3
   },
   "file_extension": ".py",
   "mimetype": "text/x-python",
   "name": "python",
   "nbconvert_exporter": "python",
   "pygments_lexer": "ipython3",
   "version": "3.6.3"
  }
 },
 "nbformat": 4,
 "nbformat_minor": 2
}
