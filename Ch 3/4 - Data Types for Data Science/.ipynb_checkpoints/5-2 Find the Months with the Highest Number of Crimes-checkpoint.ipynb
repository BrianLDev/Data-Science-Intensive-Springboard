{
 "cells": [
  {
   "cell_type": "code",
   "execution_count": null,
   "metadata": {
    "collapsed": true
   },
   "outputs": [],
   "source": [
    "# Import necessary modules\n",
    "from collections import Counter\n",
    "from datetime import datetime\n",
    "\n",
    "# Create a Counter Object: crimes_by_month\n",
    "crimes_by_month = Counter()\n",
    "\n",
    "# Loop over the crime_data list\n",
    "for data in crime_data:\n",
    "    \n",
    "    # Convert the first element of each item into a Python Datetime Object: date\n",
    "    date = datetime.strptime(data[0], '%m/%d/%Y %I:%M:%S %p')\n",
    "    \n",
    "    # Increment the counter for the month of the row by one\n",
    "    crimes_by_month[date.month] += 1\n",
    "    \n",
    "# Print the 3 most common months for crime\n",
    "print(crimes_by_month.most_common(3))"
   ]
  }
 ],
 "metadata": {
  "kernelspec": {
   "display_name": "Python 3",
   "language": "python",
   "name": "python3"
  },
  "language_info": {
   "codemirror_mode": {
    "name": "ipython",
    "version": 3
   },
   "file_extension": ".py",
   "mimetype": "text/x-python",
   "name": "python",
   "nbconvert_exporter": "python",
   "pygments_lexer": "ipython3",
   "version": "3.6.3"
  }
 },
 "nbformat": 4,
 "nbformat_minor": 2
}
