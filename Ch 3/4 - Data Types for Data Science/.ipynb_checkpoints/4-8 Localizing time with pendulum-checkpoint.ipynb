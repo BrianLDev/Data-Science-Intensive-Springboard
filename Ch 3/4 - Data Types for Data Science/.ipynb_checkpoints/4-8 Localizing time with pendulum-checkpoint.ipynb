{
 "cells": [
  {
   "cell_type": "code",
   "execution_count": null,
   "metadata": {
    "collapsed": true
   },
   "outputs": [],
   "source": [
    "# Import the pendulum module\n",
    "import pendulum\n",
    "\n",
    "# Create a now datetime for Tokyo: tokyo_dt\n",
    "tokyo_dt = pendulum.now('Asia/Tokyo')\n",
    "\n",
    "# Covert the tokyo_dt to Los Angeles: la_dt\n",
    "la_dt = tokyo_dt.in_timezone('America/Los_Angeles')\n",
    "\n",
    "# Print the ISO 8601 string of la_dt\n",
    "print(la_dt.to_iso8601_string())"
   ]
  }
 ],
 "metadata": {
  "kernelspec": {
   "display_name": "Python 3",
   "language": "python",
   "name": "python3"
  },
  "language_info": {
   "codemirror_mode": {
    "name": "ipython",
    "version": 3
   },
   "file_extension": ".py",
   "mimetype": "text/x-python",
   "name": "python",
   "nbconvert_exporter": "python",
   "pygments_lexer": "ipython3",
   "version": "3.6.3"
  }
 },
 "nbformat": 4,
 "nbformat_minor": 2
}
